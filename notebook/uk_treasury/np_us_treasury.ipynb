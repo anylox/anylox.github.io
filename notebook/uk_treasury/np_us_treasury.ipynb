{
 "cells": [
  {
   "cell_type": "code",
   "execution_count": 103,
   "metadata": {},
   "outputs": [
    {
     "name": "stdout",
     "output_type": "stream",
     "text": [
      "The autoreload extension is already loaded. To reload it, use:\n",
      "  %reload_ext autoreload\n"
     ]
    }
   ],
   "source": [
    "%matplotlib inline\n",
    "\n",
    "import numpy as np\n",
    "import pandas as pd\n",
    "import matplotlib.pyplot as plt\n",
    "import scipy.interpolate\n",
    "import requests\n",
    "import datetime\n",
    "\n",
    "%load_ext autoreload\n",
    "%autoreload 2"
   ]
  },
  {
   "cell_type": "code",
   "execution_count": 81,
   "metadata": {},
   "outputs": [],
   "source": [
    "from helpers import *"
   ]
  },
  {
   "cell_type": "code",
   "execution_count": 118,
   "metadata": {},
   "outputs": [],
   "source": [
    "date_range = pd.date_range(start='2020/1/1', end='2020/01/15', freq='B')"
   ]
  },
  {
   "cell_type": "code",
   "execution_count": 119,
   "metadata": {},
   "outputs": [
    {
     "name": "stdout",
     "output_type": "stream",
     "text": [
      "2020-01-01 00:00:00\n",
      "202011: failed to retrieve data\n",
      "2020-01-02 00:00:00\n",
      "2020-01-03 00:00:00\n",
      "2020-01-06 00:00:00\n",
      "2020-01-07 00:00:00\n",
      "2020-01-08 00:00:00\n",
      "2020-01-09 00:00:00\n",
      "2020-01-10 00:00:00\n",
      "2020-01-13 00:00:00\n",
      "2020-01-14 00:00:00\n",
      "2020-01-15 00:00:00\n"
     ]
    }
   ],
   "source": [
    "adf = []\n",
    "for dt in date_range:\n",
    "    print(dt)\n",
    "    try:\n",
    "        df = read_hist_data_from_treasurydirectgov(dt)\n",
    "    except Exception as ex:\n",
    "        print(ex)\n",
    "        continue\n",
    "    df['Date'] = dt\n",
    "    adf.append(df)        "
   ]
  },
  {
   "cell_type": "code",
   "execution_count": 120,
   "metadata": {},
   "outputs": [],
   "source": [
    "df_a = pd.concat(adf)"
   ]
  },
  {
   "cell_type": "code",
   "execution_count": 124,
   "metadata": {},
   "outputs": [
    {
     "data": {
      "text/plain": [
       "<matplotlib.axes._subplots.AxesSubplot at 0x7f8219957c50>"
      ]
     },
     "execution_count": 124,
     "metadata": {},
     "output_type": "execute_result"
    },
    {
     "data": {
      "image/png": "[encoded data removed]",
      "text/plain": [
       "<Figure size 432x288 with 1 Axes>"
      ]
     },
     "metadata": {
      "needs_background": "light"
     },
     "output_type": "display_data"
    }
   ],
   "source": [
    "df_a.sort_values(by=['CUSIP','Date']).set_index(['CUSIP','Date']).loc['912796RY7']['END OF DAY'].plot()"
   ]
  },
  {
   "cell_type": "code",
   "execution_count": null,
   "metadata": {},
   "outputs": [],
   "source": [
    "\n"
   ]
  }
 ],
 "metadata": {
  "kernelspec": {
   "display_name": "Python 3",
   "language": "python",
   "name": "python3"
  },
  "language_info": {
   "codemirror_mode": {
    "name": "ipython",
    "version": 3
   },
   "file_extension": ".py",
   "mimetype": "text/x-python",
   "name": "python",
   "nbconvert_exporter": "python",
   "pygments_lexer": "ipython3",
   "version": "3.7.6"
  }
 },
 "nbformat": 4,
 "nbformat_minor": 4
}
